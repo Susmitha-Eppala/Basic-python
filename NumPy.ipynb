{
  "nbformat": 4,
  "nbformat_minor": 0,
  "metadata": {
    "colab": {
      "provenance": [],
      "authorship_tag": "ABX9TyPfiQFVyqrB/GgmkUxjIkbX",
      "include_colab_link": true
    },
    "kernelspec": {
      "name": "python3",
      "display_name": "Python 3"
    },
    "language_info": {
      "name": "python"
    }
  },
  "cells": [
    {
      "cell_type": "markdown",
      "metadata": {
        "id": "view-in-github",
        "colab_type": "text"
      },
      "source": [
        "<a href=\"https://colab.research.google.com/github/Susmitha-Eppala/Basic-python/blob/main/NumPy.ipynb\" target=\"_parent\"><img src=\"https://colab.research.google.com/assets/colab-badge.svg\" alt=\"Open In Colab\"/></a>"
      ]
    },
    {
      "cell_type": "code",
      "execution_count": 24,
      "metadata": {
        "colab": {
          "base_uri": "https://localhost:8080/"
        },
        "id": "PR7VfTOZ6UN1",
        "outputId": "352c6344-327f-4405-c938-5e09d6ba7799"
      },
      "outputs": [
        {
          "output_type": "stream",
          "name": "stdout",
          "text": [
            "[1, 6, 8, 12, 16, 20]\n",
            "[1, 6, 8, 12, 16, 20, 1, 6, 8, 12, 16, 20]\n",
            "[ 1  6  8 12 16 20]\n",
            "1\n",
            "(6,)\n",
            "10.5\n",
            "<class 'numpy.ndarray'>\n",
            "[ 2 12 16 24 32 40]\n",
            "[list([10.0, 9.0, 8.3, 12.11, 11.1]) array([ 1,  6,  8, 12, 16, 20])]\n",
            "(2,)\n"
          ]
        },
        {
          "output_type": "stream",
          "name": "stderr",
          "text": [
            "/usr/local/lib/python3.7/dist-packages/ipykernel_launcher.py:28: VisibleDeprecationWarning: Creating an ndarray from ragged nested sequences (which is a list-or-tuple of lists-or-tuples-or ndarrays with different lengths or shapes) is deprecated. If you meant to do this, you must specify 'dtype=object' when creating the ndarray.\n"
          ]
        }
      ],
      "source": [
        "from typing import MutableSequence\n",
        "data=[1,6,8,12,16,20]\n",
        "print(data)\n",
        "Mul=data*2\n",
        "print(Mul)\n",
        "\n",
        "#NumPy Library\n",
        "\n",
        "import numpy as np\n",
        "grades=np.array(data)\n",
        "print(grades)\n",
        "\n",
        "#Expressions of NumPy Library\n",
        "\n",
        "G=grades[0]\n",
        "print(G)\n",
        "#Shape of the Grade\n",
        "GS=grades.shape\n",
        "print(GS)\n",
        "#Mean \n",
        "print(grades.mean())\n",
        "#Data Type\n",
        "print(type(grades))\n",
        "Mul2=grades*2\n",
        "print(Mul2)\n",
        "# creating of 2D array\n",
        "study_hours=[10.0,9.0,8.30,12.11,11.10]\n",
        "student_data=np.array([study_hours,grades])\n",
        "print(student_data)\n",
        "#shape of the 2D array\n",
        "print(student_data.shape)"
      ]
    }
  ]
}