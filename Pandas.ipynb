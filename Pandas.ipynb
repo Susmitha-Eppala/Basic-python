{
  "nbformat": 4,
  "nbformat_minor": 0,
  "metadata": {
    "colab": {
      "provenance": [],
      "collapsed_sections": [],
      "authorship_tag": "ABX9TyOknIQAZmPrJQD2E1+BJNDR",
      "include_colab_link": true
    },
    "kernelspec": {
      "name": "python3",
      "display_name": "Python 3"
    },
    "language_info": {
      "name": "python"
    }
  },
  "cells": [
    {
      "cell_type": "markdown",
      "metadata": {
        "id": "view-in-github",
        "colab_type": "text"
      },
      "source": [
        "<a href=\"https://colab.research.google.com/github/Susmitha-Eppala/Basic-python/blob/main/Pandas.ipynb\" target=\"_parent\"><img src=\"https://colab.research.google.com/assets/colab-badge.svg\" alt=\"Open In Colab\"/></a>"
      ]
    },
    {
      "cell_type": "code",
      "execution_count": 14,
      "metadata": {
        "colab": {
          "base_uri": "https://localhost:8080/"
        },
        "id": "JL-rmyZKDvC_",
        "outputId": "795cf954-22a2-4efa-9929-c8de729826f3"
      },
      "outputs": [
        {
          "output_type": "stream",
          "name": "stdout",
          "text": [
            "        Name Age percentage Grades\n",
            "0   Susmitha  21         90      A\n",
            "1     Soumya  19         91     A+\n",
            "2  Shireesha  20         95      B\n",
            "3      Aishu  20         90     B+\n"
          ]
        }
      ],
      "source": [
        "#Pandas Library\n",
        "import pandas as pd\n",
        "student_Data={\"Name\":[\"Susmitha\",\"Soumya\",\"Shireesha\",\"Aishu\"],\n",
        "              \"Age\":[\"21\",\"19\",\"20\",\"20\"],\n",
        "              \"percentage\":[\"90\",\"91\",\"95\",\"90\"],\n",
        "              \"Grades\":[\"A\",\"A+\",\"B\",\"B+\"]}\n",
        "DF_student=pd.DataFrame(student_Data)\n",
        "print(DF_student)             \n"
      ]
    }
  ]
}